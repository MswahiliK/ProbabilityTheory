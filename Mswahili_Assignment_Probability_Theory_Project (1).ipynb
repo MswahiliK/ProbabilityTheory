{
  "nbformat": 4,
  "nbformat_minor": 0,
  "metadata": {
    "colab": {
      "name": "Mswahili Assignment Probability Theory Project",
      "provenance": [],
      "collapsed_sections": []
    },
    "kernelspec": {
      "name": "python3",
      "display_name": "Python 3"
    },
    "language_info": {
      "name": "python"
    }
  },
  "cells": [
    {
      "cell_type": "markdown",
      "source": [
        "# Project Notebook: Probability Project"
      ],
      "metadata": {
        "id": "pB0BzCAEyS7u"
      }
    },
    {
      "cell_type": "markdown",
      "source": [
        "## 1. Introduction"
      ],
      "metadata": {
        "id": "v0hSZ5H6yXMY"
      }
    },
    {
      "cell_type": "markdown",
      "source": [
        "We've come a long way and learned:\n",
        "\n",
        "* How to calculate theoretical and empirical probabilities.\n",
        "* How to use probability rules to solve probability problems.\n",
        "* How to use combinations and permutations.\n",
        "\n",
        "To make learning easier for you, we taught these topics in isolation. In this guided project, however, we put everything together to contribute to the development of a mobile app that is meant to help lottery addicts better estimate their chances of winning.\n",
        "\n",
        "Many people start playing the lottery for fun, but for some this activity turns into a habit which eventually escalates into addiction. Like other compulsive gamblers, lottery addicts soon begin spending from their savings and loans, they start to accumulate debts, and eventually engage in desperate behaviors like theft.\n",
        "\n",
        "A medical institute that aims to prevent and treat gambling addictions wants to build a dedicated mobile app to help lottery addicts better estimate their chances of winning. The institute has a team of engineers that will build the app, but they need us to create the logical core of the app and calculate probabilities.\n",
        "\n",
        "For the first version of the app, they want us to focus on the 6/49 lottery and build functions that enable users to answer questions like:\n",
        "\n",
        "* What is the probability of winning the big prize with a single ticket?\n",
        "* What is the probability of winning the big prize if we play 40 different tickets (or any other number)?\n",
        "* What is the probability of having at least five (or four, or three, or two) winning numbers on a single ticket?\n",
        "\n",
        "The institute also wants us to consider historical data coming from the national 6/49 lottery game in Canada. The data set (https://bit.ly/3dDaWQj) has data for 3,665 drawings, dating from 1982 to 2018 (we'll come back to this).\n",
        "\n",
        "The scenario we're following throughout this project is fictional — the main purpose is to practice applying the concepts we learned in a setting that simulates a real-world scenario."
      ],
      "metadata": {
        "id": "ehzs3mbXyYnd"
      }
    },
    {
      "cell_type": "markdown",
      "source": [
        "## 2. Core Functions"
      ],
      "metadata": {
        "id": "aaWPTVSH1vWD"
      }
    },
    {
      "cell_type": "markdown",
      "source": [
        "We saw our goal is to write code that can enable users to answer probability questions about playing the lottery. Throughout the project, we'll need to calculate repeatedly probabilities and combinations. As a consequence, we'll start by writing two functions that we'll use often:\n",
        "\n",
        "A function that calculates factorials; and\n",
        "A function that calculates combinations.\n",
        "To calculate factorials, this is the formula we learned we need to use:\n",
        "\n",
        "```\n",
        "n!=n×(n−1)×(n−2)×...×2×1\n",
        "```\n",
        "\n",
        "In the 6/49 lottery, six numbers are drawn from a set of 49 numbers that range from 1 to 49. The drawing is done without replacement, which means once a number is drawn, it's not put back in the set.\n",
        "\n",
        "To find the number of combinations when we're sampling without replacement and taking only k objects from a group of n objects, we can use the formula. \n",
        "\n",
        "Now let's start coding the two functions. \n",
        "\n",
        "**Task**\n",
        "\n",
        "* Write a function named `factorial()` which takes as input a number n and computes the factorial of that number n. \n",
        "\n",
        "* Write a function named `combinations()` which takes in two inputs (n and k) and outputs the number of combinations when we're taking only k objects from a group of n objects. "
      ],
      "metadata": {
        "id": "8xOOPG0N16Nn"
      }
    },
    {
      "cell_type": "code",
      "source": [
        "import numpy as np\n",
        "import pandas as pd"
      ],
      "metadata": {
        "id": "SC1nGHgSv3vJ"
      },
      "execution_count": 18,
      "outputs": []
    },
    {
      "cell_type": "code",
      "source": [
        "def factorial(n):\n",
        "    fact = 1\n",
        "    i = n\n",
        "    for i in range(1,n+1):\n",
        "        fact *= i\n",
        "    return fact"
      ],
      "metadata": {
        "id": "NuSGK-552bQs"
      },
      "execution_count": 1,
      "outputs": []
    },
    {
      "cell_type": "code",
      "source": [
        "factorial(5)"
      ],
      "metadata": {
        "colab": {
          "base_uri": "https://localhost:8080/"
        },
        "id": "G4wBvoUC5NLi",
        "outputId": "71c0d03e-7266-4b19-b3e8-6876a2f1645a"
      },
      "execution_count": 2,
      "outputs": [
        {
          "output_type": "execute_result",
          "data": {
            "text/plain": [
              "120"
            ]
          },
          "metadata": {},
          "execution_count": 2
        }
      ]
    },
    {
      "cell_type": "code",
      "source": [
        "factorial(10)"
      ],
      "metadata": {
        "colab": {
          "base_uri": "https://localhost:8080/"
        },
        "id": "tMKEtSoQ5WzS",
        "outputId": "a518e921-61f9-488f-fc62-5a9b42afc25f"
      },
      "execution_count": 3,
      "outputs": [
        {
          "output_type": "execute_result",
          "data": {
            "text/plain": [
              "3628800"
            ]
          },
          "metadata": {},
          "execution_count": 3
        }
      ]
    },
    {
      "cell_type": "code",
      "source": [
        "def combinations(n,k):\n",
        "    return factorial(n) // (factorial(k)*factorial(n-k))\n",
        "\n",
        "combinations(10,5)"
      ],
      "metadata": {
        "colab": {
          "base_uri": "https://localhost:8080/"
        },
        "id": "4U7qZk7_53In",
        "outputId": "1ac3d375-f580-41b2-e054-c441bb89200c"
      },
      "execution_count": 4,
      "outputs": [
        {
          "output_type": "execute_result",
          "data": {
            "text/plain": [
              "252"
            ]
          },
          "metadata": {},
          "execution_count": 4
        }
      ]
    },
    {
      "cell_type": "code",
      "source": [
        "combinations(15,7)"
      ],
      "metadata": {
        "colab": {
          "base_uri": "https://localhost:8080/"
        },
        "id": "UUoFP5KI6Fp3",
        "outputId": "74ba65be-d268-43a8-e29d-8ec5871c8df8"
      },
      "execution_count": 5,
      "outputs": [
        {
          "output_type": "execute_result",
          "data": {
            "text/plain": [
              "6435"
            ]
          },
          "metadata": {},
          "execution_count": 5
        }
      ]
    },
    {
      "cell_type": "markdown",
      "source": [
        "## 3. One-ticket Probability"
      ],
      "metadata": {
        "id": "aFEVgn-02dXz"
      }
    },
    {
      "cell_type": "markdown",
      "source": [
        "We focused on writing `factorial()` and `combinations()`, two core functions that we're going to need repeatedly moving forward. We'll now focus on writing a function that calculates the probability of winning the big prize.\n",
        "\n",
        "In the 6/49 lottery, six numbers are drawn from a set of 49 numbers that range from 1 to 49. A player wins the big prize if the six numbers on their tickets match all the six numbers drawn. If a player has a ticket with the numbers {13, 22, 24, 27, 42, 44}, he only wins the big prize if the numbers drawn are {13, 22, 24, 27, 42, 44}. If only one number differs, he doesn't win.\n",
        "\n",
        "For the first version of the app, we want players to be able to calculate the probability of winning the big prize with the various numbers they play on a single ticket (for each ticket a player chooses six numbers out of 49). So, we'll start by building a function that calculates the probability of winning the big prize for any given ticket.\n",
        "\n",
        "We discussed with the engineering team of the medical institute, and they told us we need to be aware of the following details when we write the function:\n",
        "\n",
        "* Inside the app, the user inputs six different numbers from 1 to 49.\n",
        "* Under the hood, the six numbers will come as a Python list, which will serve as the single input to our function.\n",
        "* The engineering team wants the function to print the probability value in a friendly way — in a way that people without any probability training are able to understand.\n",
        "\n",
        "Let's try to write this function!\n",
        "\n",
        "**Tasks**\n",
        "\n",
        "1. Write a function named `one_ticket_probability()`, which takes in a list of six unique numbers and prints the probability of winning in a way that's easy to understand.\n",
        "\n",
        "* Start by calculating the total number of possible outcomes — this is total number of combinations for a six-number lottery ticket. There are 49 possible numbers, and six numbers are sampled without replacement. Use the `combinations()` function you wrote.\n",
        "* The user inputs just one combination, which means the number of successful outcomes is 1.\n",
        "* Use the number of successful outcomes and the total number of possible outcomes to calculate the probability for one ticket.\n",
        "* The function should print the probability in a way that's easy to understand. It's up to you what you choose, but here are a few suggestions:\n",
        "Print the probability as a percentage.\n",
        "Use the `str.format()` method to make the printed message more personalized with respect to what the user inputs.\n",
        "\n",
        "2. Test your function using a few inputs.\n",
        "\n",
        "3. Add some context for your readers to explain what you did in this step and why."
      ],
      "metadata": {
        "id": "JQi_VEOY2gU3"
      }
    },
    {
      "cell_type": "code",
      "source": [
        "import numpy as np\n",
        "import pandas as pd"
      ],
      "metadata": {
        "id": "UZg0dIRCwiwG"
      },
      "execution_count": 21,
      "outputs": []
    },
    {
      "cell_type": "code",
      "source": [
        "LEN_TICKET = 6  # Each ticket muct have exactly 6 numbers.\n",
        "LEN_POSSIBLE_DIGITS = 49\n",
        "\n",
        "def one_ticket_probability(nums):\n",
        "    \"\"\"\n",
        "    Calculate the probability of winning the big prize with one \n",
        "    ticket for a given list of numbers.\n",
        "    \n",
        "    Arguments:\n",
        "    ----------\n",
        "    nums : list of 6 different integers from 1 to 49 inclusive.\n",
        "    \"\"\"\n",
        "    if len(nums) == LEN_TICKET:\n",
        "        comb = combinations(LEN_POSSIBLE_DIGITS, LEN_TICKET)\n",
        "        p_win_percentage = (1/comb) * 100\n",
        "        print(\"Your chances of winning the big prize using one\" \n",
        "              \"ticket with numbers {} is {:.7f}%.\\nIn other words,\"\n",
        "              \"you have a one in {:,.0f} chance of \"\n",
        "              \"winning.\".format(nums, p_win_percentage,comb)\n",
        "             )\n",
        "    else:\n",
        "        print(\"You entered {} numbers. Please enter exactly 6 \\\n",
        "        numbers.\".format(len(nums)))"
      ],
      "metadata": {
        "id": "W7XhI3UvuWsv"
      },
      "execution_count": 19,
      "outputs": []
    },
    {
      "cell_type": "code",
      "source": [
        "one_ticket_probability([49, 3, 15, 9, 33, 2])"
      ],
      "metadata": {
        "colab": {
          "base_uri": "https://localhost:8080/"
        },
        "id": "lCsiuWDdubHP",
        "outputId": "f0573e3c-0b44-4a7a-eca3-ebbcf5229d77"
      },
      "execution_count": 20,
      "outputs": [
        {
          "output_type": "stream",
          "name": "stdout",
          "text": [
            "Your chances of winning the big prize using oneticket with numbers [49, 3, 15, 9, 33, 2] is 0.0000072%.\n",
            "In other words,you have a one in 13,983,816 chance of winning.\n"
          ]
        }
      ]
    },
    {
      "cell_type": "markdown",
      "source": [
        "## 4. Historical Data Check for Canada Lottery"
      ],
      "metadata": {
        "id": "21QYEfb93GMo"
      }
    },
    {
      "cell_type": "markdown",
      "source": [
        "We've written a function that can tell users what is the probability of winning the big prize with a single ticket. For the first version of the app, however, users should also be able to compare their ticket against the historical lottery data in Canada and determine whether they would have ever won by now.\n",
        "\n",
        "Next, we'll focus on exploring the historical data coming from the Canada 6/49 lottery.\n",
        "\n",
        "The data set contains historical data for 3,665 drawings (each row shows data for a single drawing), dating from 1982 to 2018. For each drawing, we can find the six numbers drawn in the following six columns:\n",
        "\n",
        "* `NUMBER DRAWN 1`\n",
        "* `NUMBER DRAWN 2`\n",
        "* `NUMBER DRAWN 3`\n",
        "* `NUMBER DRAWN 4`\n",
        "* `NUMBER DRAWN 5`\n",
        "* `NUMBER DRAWN 6`\n",
        "\n",
        "Let's now write some code to open this data set and get familiar with its structure.\n",
        "\n",
        "**Tasks**\n",
        "\n",
        "* Open the `649.csv` file and save it as a pandas DataFrame.\n",
        "* Print the number of rows and columns of this data set.\n",
        "* Print the first and the last three rows and try to get familiar with the data set."
      ],
      "metadata": {
        "id": "nBAD--X23KmJ"
      }
    },
    {
      "cell_type": "code",
      "source": [
        "lottery649 = pd.read_csv('649.csv')"
      ],
      "metadata": {
        "id": "ThRxAMlMAst_"
      },
      "execution_count": 23,
      "outputs": []
    },
    {
      "cell_type": "code",
      "source": [
        "lottery649.shape"
      ],
      "metadata": {
        "colab": {
          "base_uri": "https://localhost:8080/"
        },
        "id": "ez_tRYopBXkw",
        "outputId": "0f967fb2-13ab-429b-f5b3-004ba8bfd767"
      },
      "execution_count": 24,
      "outputs": [
        {
          "output_type": "execute_result",
          "data": {
            "text/plain": [
              "(3665, 11)"
            ]
          },
          "metadata": {},
          "execution_count": 24
        }
      ]
    },
    {
      "cell_type": "code",
      "source": [
        "lottery649.head(6)"
      ],
      "metadata": {
        "colab": {
          "base_uri": "https://localhost:8080/",
          "height": 299
        },
        "id": "Tu8vdJyeBeBZ",
        "outputId": "02b7ea58-c484-4758-f3a9-f21b34b56e4e"
      },
      "execution_count": 25,
      "outputs": [
        {
          "output_type": "execute_result",
          "data": {
            "text/html": [
              "\n",
              "  <div id=\"df-c2c1c233-38b7-4aed-b9fa-51e5b37d7e6d\">\n",
              "    <div class=\"colab-df-container\">\n",
              "      <div>\n",
              "<style scoped>\n",
              "    .dataframe tbody tr th:only-of-type {\n",
              "        vertical-align: middle;\n",
              "    }\n",
              "\n",
              "    .dataframe tbody tr th {\n",
              "        vertical-align: top;\n",
              "    }\n",
              "\n",
              "    .dataframe thead th {\n",
              "        text-align: right;\n",
              "    }\n",
              "</style>\n",
              "<table border=\"1\" class=\"dataframe\">\n",
              "  <thead>\n",
              "    <tr style=\"text-align: right;\">\n",
              "      <th></th>\n",
              "      <th>PRODUCT</th>\n",
              "      <th>DRAW NUMBER</th>\n",
              "      <th>SEQUENCE NUMBER</th>\n",
              "      <th>DRAW DATE</th>\n",
              "      <th>NUMBER DRAWN 1</th>\n",
              "      <th>NUMBER DRAWN 2</th>\n",
              "      <th>NUMBER DRAWN 3</th>\n",
              "      <th>NUMBER DRAWN 4</th>\n",
              "      <th>NUMBER DRAWN 5</th>\n",
              "      <th>NUMBER DRAWN 6</th>\n",
              "      <th>BONUS NUMBER</th>\n",
              "    </tr>\n",
              "  </thead>\n",
              "  <tbody>\n",
              "    <tr>\n",
              "      <th>0</th>\n",
              "      <td>649</td>\n",
              "      <td>1</td>\n",
              "      <td>0</td>\n",
              "      <td>6/12/1982</td>\n",
              "      <td>3</td>\n",
              "      <td>11</td>\n",
              "      <td>12</td>\n",
              "      <td>14</td>\n",
              "      <td>41</td>\n",
              "      <td>43</td>\n",
              "      <td>13</td>\n",
              "    </tr>\n",
              "    <tr>\n",
              "      <th>1</th>\n",
              "      <td>649</td>\n",
              "      <td>2</td>\n",
              "      <td>0</td>\n",
              "      <td>6/19/1982</td>\n",
              "      <td>8</td>\n",
              "      <td>33</td>\n",
              "      <td>36</td>\n",
              "      <td>37</td>\n",
              "      <td>39</td>\n",
              "      <td>41</td>\n",
              "      <td>9</td>\n",
              "    </tr>\n",
              "    <tr>\n",
              "      <th>2</th>\n",
              "      <td>649</td>\n",
              "      <td>3</td>\n",
              "      <td>0</td>\n",
              "      <td>6/26/1982</td>\n",
              "      <td>1</td>\n",
              "      <td>6</td>\n",
              "      <td>23</td>\n",
              "      <td>24</td>\n",
              "      <td>27</td>\n",
              "      <td>39</td>\n",
              "      <td>34</td>\n",
              "    </tr>\n",
              "    <tr>\n",
              "      <th>3</th>\n",
              "      <td>649</td>\n",
              "      <td>4</td>\n",
              "      <td>0</td>\n",
              "      <td>7/3/1982</td>\n",
              "      <td>3</td>\n",
              "      <td>9</td>\n",
              "      <td>10</td>\n",
              "      <td>13</td>\n",
              "      <td>20</td>\n",
              "      <td>43</td>\n",
              "      <td>34</td>\n",
              "    </tr>\n",
              "    <tr>\n",
              "      <th>4</th>\n",
              "      <td>649</td>\n",
              "      <td>5</td>\n",
              "      <td>0</td>\n",
              "      <td>7/10/1982</td>\n",
              "      <td>5</td>\n",
              "      <td>14</td>\n",
              "      <td>21</td>\n",
              "      <td>31</td>\n",
              "      <td>34</td>\n",
              "      <td>47</td>\n",
              "      <td>45</td>\n",
              "    </tr>\n",
              "    <tr>\n",
              "      <th>5</th>\n",
              "      <td>649</td>\n",
              "      <td>6</td>\n",
              "      <td>0</td>\n",
              "      <td>7/17/1982</td>\n",
              "      <td>8</td>\n",
              "      <td>20</td>\n",
              "      <td>21</td>\n",
              "      <td>25</td>\n",
              "      <td>31</td>\n",
              "      <td>41</td>\n",
              "      <td>33</td>\n",
              "    </tr>\n",
              "  </tbody>\n",
              "</table>\n",
              "</div>\n",
              "      <button class=\"colab-df-convert\" onclick=\"convertToInteractive('df-c2c1c233-38b7-4aed-b9fa-51e5b37d7e6d')\"\n",
              "              title=\"Convert this dataframe to an interactive table.\"\n",
              "              style=\"display:none;\">\n",
              "        \n",
              "  <svg xmlns=\"http://www.w3.org/2000/svg\" height=\"24px\"viewBox=\"0 0 24 24\"\n",
              "       width=\"24px\">\n",
              "    <path d=\"M0 0h24v24H0V0z\" fill=\"none\"/>\n",
              "    <path d=\"M18.56 5.44l.94 2.06.94-2.06 2.06-.94-2.06-.94-.94-2.06-.94 2.06-2.06.94zm-11 1L8.5 8.5l.94-2.06 2.06-.94-2.06-.94L8.5 2.5l-.94 2.06-2.06.94zm10 10l.94 2.06.94-2.06 2.06-.94-2.06-.94-.94-2.06-.94 2.06-2.06.94z\"/><path d=\"M17.41 7.96l-1.37-1.37c-.4-.4-.92-.59-1.43-.59-.52 0-1.04.2-1.43.59L10.3 9.45l-7.72 7.72c-.78.78-.78 2.05 0 2.83L4 21.41c.39.39.9.59 1.41.59.51 0 1.02-.2 1.41-.59l7.78-7.78 2.81-2.81c.8-.78.8-2.07 0-2.86zM5.41 20L4 18.59l7.72-7.72 1.47 1.35L5.41 20z\"/>\n",
              "  </svg>\n",
              "      </button>\n",
              "      \n",
              "  <style>\n",
              "    .colab-df-container {\n",
              "      display:flex;\n",
              "      flex-wrap:wrap;\n",
              "      gap: 12px;\n",
              "    }\n",
              "\n",
              "    .colab-df-convert {\n",
              "      background-color: #E8F0FE;\n",
              "      border: none;\n",
              "      border-radius: 50%;\n",
              "      cursor: pointer;\n",
              "      display: none;\n",
              "      fill: #1967D2;\n",
              "      height: 32px;\n",
              "      padding: 0 0 0 0;\n",
              "      width: 32px;\n",
              "    }\n",
              "\n",
              "    .colab-df-convert:hover {\n",
              "      background-color: #E2EBFA;\n",
              "      box-shadow: 0px 1px 2px rgba(60, 64, 67, 0.3), 0px 1px 3px 1px rgba(60, 64, 67, 0.15);\n",
              "      fill: #174EA6;\n",
              "    }\n",
              "\n",
              "    [theme=dark] .colab-df-convert {\n",
              "      background-color: #3B4455;\n",
              "      fill: #D2E3FC;\n",
              "    }\n",
              "\n",
              "    [theme=dark] .colab-df-convert:hover {\n",
              "      background-color: #434B5C;\n",
              "      box-shadow: 0px 1px 3px 1px rgba(0, 0, 0, 0.15);\n",
              "      filter: drop-shadow(0px 1px 2px rgba(0, 0, 0, 0.3));\n",
              "      fill: #FFFFFF;\n",
              "    }\n",
              "  </style>\n",
              "\n",
              "      <script>\n",
              "        const buttonEl =\n",
              "          document.querySelector('#df-c2c1c233-38b7-4aed-b9fa-51e5b37d7e6d button.colab-df-convert');\n",
              "        buttonEl.style.display =\n",
              "          google.colab.kernel.accessAllowed ? 'block' : 'none';\n",
              "\n",
              "        async function convertToInteractive(key) {\n",
              "          const element = document.querySelector('#df-c2c1c233-38b7-4aed-b9fa-51e5b37d7e6d');\n",
              "          const dataTable =\n",
              "            await google.colab.kernel.invokeFunction('convertToInteractive',\n",
              "                                                     [key], {});\n",
              "          if (!dataTable) return;\n",
              "\n",
              "          const docLinkHtml = 'Like what you see? Visit the ' +\n",
              "            '<a target=\"_blank\" href=https://colab.research.google.com/notebooks/data_table.ipynb>data table notebook</a>'\n",
              "            + ' to learn more about interactive tables.';\n",
              "          element.innerHTML = '';\n",
              "          dataTable['output_type'] = 'display_data';\n",
              "          await google.colab.output.renderOutput(dataTable, element);\n",
              "          const docLink = document.createElement('div');\n",
              "          docLink.innerHTML = docLinkHtml;\n",
              "          element.appendChild(docLink);\n",
              "        }\n",
              "      </script>\n",
              "    </div>\n",
              "  </div>\n",
              "  "
            ],
            "text/plain": [
              "   PRODUCT  DRAW NUMBER  ...  NUMBER DRAWN 6 BONUS NUMBER\n",
              "0      649            1  ...              43           13\n",
              "1      649            2  ...              41            9\n",
              "2      649            3  ...              39           34\n",
              "3      649            4  ...              43           34\n",
              "4      649            5  ...              47           45\n",
              "5      649            6  ...              41           33\n",
              "\n",
              "[6 rows x 11 columns]"
            ]
          },
          "metadata": {},
          "execution_count": 25
        }
      ]
    },
    {
      "cell_type": "code",
      "source": [
        "#Print the first and the last three rows and try to get familiar with the data set.\n",
        "print(lottery649.head(3))\n",
        "print(lottery649.tail(3))"
      ],
      "metadata": {
        "colab": {
          "base_uri": "https://localhost:8080/"
        },
        "id": "Eehpfs8iCNBV",
        "outputId": "2293d160-b1a0-49cf-f64b-e288eb345696"
      },
      "execution_count": 26,
      "outputs": [
        {
          "output_type": "stream",
          "name": "stdout",
          "text": [
            "   PRODUCT  DRAW NUMBER  ...  NUMBER DRAWN 6 BONUS NUMBER\n",
            "0      649            1  ...              43           13\n",
            "1      649            2  ...              41            9\n",
            "2      649            3  ...              39           34\n",
            "\n",
            "[3 rows x 11 columns]\n",
            "      PRODUCT  DRAW NUMBER  ...  NUMBER DRAWN 6 BONUS NUMBER\n",
            "3662      649         3589  ...              34           16\n",
            "3663      649         3590  ...              49            8\n",
            "3664      649         3591  ...              48           17\n",
            "\n",
            "[3 rows x 11 columns]\n"
          ]
        }
      ]
    },
    {
      "cell_type": "markdown",
      "source": [
        "## 5. Function for Historical Data Check"
      ],
      "metadata": {
        "id": "mIj2T79O3sWu"
      }
    },
    {
      "cell_type": "markdown",
      "source": [
        "We've focused on opening and exploring the Canada lottery data set. We're now going to write a function that will enable users to compare their ticket against the historical lottery data in Canada and determine whether they would have ever won by now.\n",
        "\n",
        "The engineering team told us that we need to be aware of the following details:\n",
        "\n",
        "* Inside the app, the user inputs six different numbers from 1 to 49.\n",
        "* Under the hood, the six numbers will come as a Python list and serve as an input to our function.\n",
        "* The engineering team wants us to write a function that prints the number of times the combination selected occurred in the Canada data set; and\n",
        "the probability of winning the big prize in the next drawing with that combination.\n",
        "\n",
        "We'll now start working on writing this function. Note there's more than one way to solve this problem, so take the instructions below as suggestions.\n",
        "\n",
        "**Tasks**\n",
        "\n",
        "1. Extract all the winning six numbers from the historical data set as Python sets (set is a data type in Python).\n",
        "\n",
        "* Write a function named `extract_numbers()` that takes as input a row of the lottery dataframe and returns a set containing all the six winning numbers. For the first row, for instance, the function should return the set {3, 41, 11, 12, 43, 14}.\n",
        "* Use `extract_numbers()` in combination with the `DataFrame.apply()` method to extract all the winning numbers.\n",
        "\n",
        "2. Write a function named `check_historical_occurence()` that takes in two inputs: a Python list containing the user numbers and a pandas Series containing sets with the winning numbers (this is the Series you'll extract using the `extract_numbers()` function).\n",
        "\n",
        "* Convert the user numbers list as a set using the `set()` function.\n",
        "* Compare the set against the pandas Series that contains the sets with the winning numbers to find the number of matches — a Series of Boolean values will be returned as a result of the comparison (the value will be True each time there'll be a match).\n",
        "* Print information about the number of times the combination inputted by the user occurred in the past.\n",
        "* Print information (in an easy-to-understand way) about the probability of winning the big prize in the next drawing with that combination.\n",
        "\n",
        "3. Test your function with a few inputs.\n",
        "\n",
        "4. Add some context for your readers to explain what you did in this step and why."
      ],
      "metadata": {
        "id": "fKd8JZKB3wNq"
      }
    },
    {
      "cell_type": "code",
      "source": [
        "#Extract all the winning six numbers from the historical data set as Python sets (set is a data type in Python)\n",
        "def extract_numbers(row):\n",
        "    row = row[4:10]\n",
        "    row = set(row.values)\n",
        "    return row\n",
        "\n",
        "winningNumbers = lottery649.apply(extract_numbers, axis=1)\n",
        "winningNumbers.head()"
      ],
      "metadata": {
        "id": "M959lFjX4i1-",
        "colab": {
          "base_uri": "https://localhost:8080/"
        },
        "outputId": "6229498b-c066-4b98-8dc2-e30ac2ee8f55"
      },
      "execution_count": 34,
      "outputs": [
        {
          "output_type": "execute_result",
          "data": {
            "text/plain": [
              "0    {3, 41, 11, 12, 43, 14}\n",
              "1    {33, 36, 37, 39, 8, 41}\n",
              "2     {1, 6, 39, 23, 24, 27}\n",
              "3     {3, 9, 10, 43, 13, 20}\n",
              "4    {34, 5, 14, 47, 21, 31}\n",
              "dtype: object"
            ]
          },
          "metadata": {},
          "execution_count": 34
        }
      ]
    },
    {
      "cell_type": "code",
      "source": [
        "def check_historical_occurence(ticket_nums, past_winning_nums):\n",
        "    \"\"\"\n",
        "    \n",
        "    \"\"\"\n",
        "    comb = combinations(LEN_POSSIBLE_DIGITS, LEN_TICKET)\n",
        "    p_win_percentage = (1/comb) * 100\n",
        "    ticket_nums = set(ticket_nums)\n",
        "    occurred = past_winning_nums == ticket_nums\n",
        "    total_occurrences = sum(occurred)\n",
        "    \n",
        "    if total_occurrences == 0:\n",
        "        print(\"This combination has never won the big prize.\")\n",
        "    else:\n",
        "        print(\"The number of times this combination has won the \"\n",
        "              \"big prize is {}.\".format(total_occurrences))\n",
        "        \n",
        "    print(\"Your chances of winning the big prize with this combination \"\n",
        "          \"is {:.7f}%. In other words, you have a 1 in {:,.0f} chance \"\n",
        "          \"of winning.\".format(p_win_percentage,comb)\n",
        "         )"
      ],
      "metadata": {
        "id": "5bOYSMfsE-Fw"
      },
      "execution_count": 29,
      "outputs": []
    },
    {
      "cell_type": "code",
      "source": [
        "myNums = [30, 21, 11, 6, 44, 19]"
      ],
      "metadata": {
        "id": "W9BHIpXxHBWZ"
      },
      "execution_count": 30,
      "outputs": []
    },
    {
      "cell_type": "code",
      "source": [
        "check_historical_occurence(myNums, winningNumbers)"
      ],
      "metadata": {
        "colab": {
          "base_uri": "https://localhost:8080/"
        },
        "id": "6DegkBduHDVx",
        "outputId": "ccc0ca20-cffc-4342-bade-6d984ef1a5d6"
      },
      "execution_count": 35,
      "outputs": [
        {
          "output_type": "stream",
          "name": "stdout",
          "text": [
            "This combination has never won the big prize.\n",
            "Your chances of winning the big prize with this combination is 0.0000072%. In other words, you have a 1 in 13,983,816 chance of winning.\n"
          ]
        }
      ]
    },
    {
      "cell_type": "code",
      "source": [
        "myNums = [3, 9, 10, 43, 13, 20]\n",
        "check_historical_occurence(myNums, winningNumbers)"
      ],
      "metadata": {
        "colab": {
          "base_uri": "https://localhost:8080/"
        },
        "id": "bR4dKsFEIJJT",
        "outputId": "ea325ea3-6681-468d-aa87-63272eef73b3"
      },
      "execution_count": 36,
      "outputs": [
        {
          "output_type": "stream",
          "name": "stdout",
          "text": [
            "The number of times this combination has won the big prize is 1.\n",
            "Your chances of winning the big prize with this combination is 0.0000072%. In other words, you have a 1 in 13,983,816 chance of winning.\n"
          ]
        }
      ]
    },
    {
      "cell_type": "markdown",
      "source": [
        "## 6. Multi-ticket Probability"
      ],
      "metadata": {
        "id": "DjHxdsHO4pfU"
      }
    },
    {
      "cell_type": "markdown",
      "source": [
        "So far, we wrote two functions:\n",
        "\n",
        "* `one_ticket_probability()` — calculates the probability of winning the big prize with a single ticket\n",
        "* `check_historical_occurrence()` — checks whether a certain combination has occurred in the Canada lottery data set\n",
        "\n",
        "Lottery addicts usually play more than one ticket on a single drawing, thinking that this might increase their chances of winning significantly. Our purpose is to help them better estimate their chances of winning — we're now going to write a function that will allow the users to calculate the chances of winning for any number of different tickets.\n",
        "\n",
        "We've talked with the engineering team and they gave us the following information:\n",
        "\n",
        "* The user will input the number of different tickets they want to play (without inputting the specific combinations they intend to play).\n",
        "* Our function will see an integer between 1 and 13,983,816 (the maximum number of different tickets).\n",
        "* The function should print information about the probability of winning the big prize depending on the number of different tickets played.\n",
        "\n",
        "Let's now start writing this function.\n",
        "\n",
        "**Tasks**\n",
        "\n",
        "1. Write a function named `multi_ticket_probability()` that prints the probability of winning the big prize depending on the number of different tickets played.\n",
        "\n",
        "* Start by calculating the total number of possible outcomes — this is total number of combinations for a six-number lottery ticket. There are 49 total numbers, and six numbers are sampled without replacement. Use the `combinations()` function.\n",
        "* The number of successful outcomes is given by the number of tickets the user intends to play.\n",
        "* Use the number of successful outcomes and the total number of possible outcomes to calculate the probability for the number of tickets inputted.\n",
        "* The function should print the probability in a way that's easy to understand. It's up to you what you choose, but here are a few suggestions:\n",
        "Print the probability as a percentage.\n",
        "Use the `str.format()` method to make the printed message more personalized with respect to what the user inputs.\n",
        "\n",
        "2. Test your function using the following inputs: `[1, 10, 100, 10000, 1000000, 6991908, 13983816]`.\n",
        "\n",
        "3. Add some context for your readers to explain what you did in this step and why."
      ],
      "metadata": {
        "id": "9Lc-A9lV4tKC"
      }
    },
    {
      "cell_type": "code",
      "source": [
        "def multi_ticket_probability(n_tickets):\n",
        "    \"\"\"\n",
        "    Calculate the chances of winning for any number of different tickets.\n",
        "    \n",
        "    Argument:\n",
        "    ---------\n",
        "    n_tickets (int): number of tickets.\n",
        "    \"\"\"\n",
        "    n_combinations = combinations(LEN_POSSIBLE_DIGITS, LEN_TICKET)\n",
        "    p_win_percentage = (n_tickets/n_combinations) * 100\n",
        "    chances_simplified = round(n_combinations/n_tickets)\n",
        "    print(\"You have a {:.7f}% chance of winning the big prize with {:,}\"\n",
        "          \" tickets. In other words you have a 1 in {:,} chance.\\n\"\n",
        "          .format(p_win_percentage, n_tickets, chances_simplified)\n",
        "         )"
      ],
      "metadata": {
        "id": "tcZOK6wv5QZa"
      },
      "execution_count": 37,
      "outputs": []
    },
    {
      "cell_type": "code",
      "source": [
        "for i in [9, 99, 999, 9999, 99999, 9999999, 99999999]:\n",
        "    multi_ticket_probability(i)"
      ],
      "metadata": {
        "colab": {
          "base_uri": "https://localhost:8080/"
        },
        "id": "9y-fCvk_088v",
        "outputId": "7cc871ce-a1d7-465a-b33a-eb4b6c5d41a3"
      },
      "execution_count": 38,
      "outputs": [
        {
          "output_type": "stream",
          "name": "stdout",
          "text": [
            "You have a 0.0000644% chance of winning the big prize with 9 tickets. In other words you have a 1 in 1,553,757 chance.\n",
            "\n",
            "You have a 0.0007080% chance of winning the big prize with 99 tickets. In other words you have a 1 in 141,251 chance.\n",
            "\n",
            "You have a 0.0071440% chance of winning the big prize with 999 tickets. In other words you have a 1 in 13,998 chance.\n",
            "\n",
            "You have a 0.0715041% chance of winning the big prize with 9,999 tickets. In other words you have a 1 in 1,399 chance.\n",
            "\n",
            "You have a 0.7151052% chance of winning the big prize with 99,999 tickets. In other words you have a 1 in 140 chance.\n",
            "\n",
            "You have a 71.5112313% chance of winning the big prize with 9,999,999 tickets. In other words you have a 1 in 1 chance.\n",
            "\n",
            "You have a 715.1123771% chance of winning the big prize with 99,999,999 tickets. In other words you have a 1 in 0 chance.\n",
            "\n"
          ]
        }
      ]
    },
    {
      "cell_type": "markdown",
      "source": [
        "## 7. Less Winning Numbers - Function"
      ],
      "metadata": {
        "id": "6we3E3zt5a00"
      }
    },
    {
      "cell_type": "markdown",
      "source": [
        "So far, we wrote three main functions:\n",
        "\n",
        "* `one_ticket_probability()` — calculates the probability of winning the big prize with a single ticket\n",
        "* `check_historical_occurrence()` — checks whether a certain combination has occurred in the Canada lottery data set\n",
        "* `multi_ticket_probability()` — calculates the probability for any number of tickets between 1 and 13,983,816\n",
        "\n",
        "We're going to write one more function to allow the users to calculate probabilities for two, three, four, or five winning numbers.\n",
        "\n",
        "For extra context, in most 6/49 lotteries there are smaller prizes if a player's ticket match two, three, four, or five of the six numbers drawn. As a consequence, the users might be interested in knowing the probability of having two, three, four, or five winning numbers.\n",
        "\n",
        "These are the engineering details we'll need to be aware of:\n",
        "\n",
        "* Inside the app, the user inputs:\n",
        "six different numbers from 1 to 49; and\n",
        "an integer between 2 and 5 that represents the number of winning numbers expected.\n",
        "* Our function prints information about the probability of having the inputted number of winning numbers.\n",
        "To help you code this function, we'll guide you through calculating the probability for having exactly five winning numbers. First, we need to differentiate between these two probability questions:\n",
        "\n",
        "* What is the probability of having exactly five winning numbers?\n",
        "* What is the probability of having at least five winning numbers?\n",
        "For our purposes here, we want to answer the first question.\n",
        "\n",
        "For the sake of example, let's say a player chose these six numbers on a ticket: (1, 2, 3, 4 ,5 ,6). Out of these six numbers, we can form six five-number combinations:\n",
        "```\n",
        "(1, 2, 3, 4, 5)\n",
        "(1, 2, 3, 4, 6)\n",
        "(1, 2, 3, 5, 6)\n",
        "(1, 2, 4, 5, 6)\n",
        "(1, 3, 4, 5, 6)\n",
        "(2, 3, 4, 5, 6)\n",
        "```\n",
        "We can also find the total number of five-number combinations.\n",
        "\n",
        "For each one of the six five-number combinations above, there are 44 possible successful outcomes in a lottery drawing. For the combination (1, 2, 3, 4, 5), for instance, there are 44 lottery outcomes that would return a prize:\n",
        "```\n",
        "(1, 2, 3, 4, 5, 6)\n",
        "(1, 2, 3, 4, 5, 7)\n",
        "...\n",
        "(1, 2, 3, 4, 5, 30)\n",
        "(1, 2, 3, 4, 5, 31)\n",
        "...\n",
        "(1, 2, 3, 4, 5, 49)\n",
        "```\n",
        "However, we need to leave out the outcome (1, 2, 3, 4, 5, 6) because we're only interested in outcomes that match exactly five numbers, not at least five numbers. This means that for each of our six five-number combinations we have 43 possible successful outcomes, not 44.\n",
        "\n",
        "Since there are six five-number combinations and each combination corresponds to 43 successful outcomes, we need to multiply 6 by 43 to find the total number of successful outcomes:\n",
        "```\n",
        "6 × 43 = 258\n",
        "```\n",
        "Since there are 258 successful outcomes and there are 13,983,816 total possible outcomes, the probability of having exactly five winning numbers for a single lottery ticket is:\n",
        "\n",
        "```\n",
        "P (5-winning numbers) = 258 (49 6) = 0.00001845\n",
        "```\n",
        "\n",
        "Now let's try to code the function. To calculate the probabilities, we tell the engineering team that the specific combination on the ticket is irrelevant behind the scenes, and we only need the integer between 2 and 5 representing the number of winning numbers expected.\n",
        "\n",
        "\n",
        "**Tasks**\n",
        "\n",
        "1. Write a function named `probability_less_6()` which takes in an integer between 2 and 5 and prints information about the chances of winning depending on the value of that integer.\n",
        "\n",
        "* First, calculate the number of successful outcomes given the value of the input. We already covered how to calculate this when the input is 5 — when the input is lower, we need to take the same approach (but be careful, the number of combinations will vary).\n",
        "\n",
        "* Second, calculate the number of total possible outcomes.\n",
        "* Calculate the probability using the number of successful outcomes and the number of total possible outcomes.\n",
        "* Display the probability value in a way that will be easy to understand for the user.\n",
        "\n",
        "2. Test your function on all possible inputs: 2, 3, 4, and 5.\n",
        "\n",
        "3. Add some context for your readers to explain what you did in this step and why."
      ],
      "metadata": {
        "id": "FVB7WXD95gTe"
      }
    },
    {
      "cell_type": "code",
      "source": [
        "def probability_less_than_6(n_winning):\n",
        "    n_choose_6 = combinations(LEN_TICKET,n_winning)\n",
        "    n_successful = combinations(43, LEN_TICKET - n_winning)\n",
        "    total_possible_outcomes = combinations(LEN_POSSIBLE_DIGITS, LEN_TICKET)\n",
        "    outcomes_simplified = round(total_possible_outcomes/(n_choose_6*n_successful))\n",
        "    \n",
        "    p_win_percentage = (n_choose_6 * n_successful)/total_possible_outcomes\n",
        "    print(\"Your chances of having {} winning numbers are {:.7f}%. In other words,\"\n",
        "          \" you have a 1 in {} chance.\\n\".format(n_winning, p_win_percentage, outcomes_simplified))\n",
        "    \n",
        "for i in range(1,6):\n",
        "    probability_less_than_6(i)"
      ],
      "metadata": {
        "id": "4jkhatCB668N",
        "colab": {
          "base_uri": "https://localhost:8080/"
        },
        "outputId": "547dbb8a-2045-4a55-98b9-25e8b6eb7036"
      },
      "execution_count": 40,
      "outputs": [
        {
          "output_type": "stream",
          "name": "stdout",
          "text": [
            "Your chances of having 1 winning numbers are 0.4130195%. In other words, you have a 1 in 2 chance.\n",
            "\n",
            "Your chances of having 2 winning numbers are 0.1323780%. In other words, you have a 1 in 8 chance.\n",
            "\n",
            "Your chances of having 3 winning numbers are 0.0176504%. In other words, you have a 1 in 57 chance.\n",
            "\n",
            "Your chances of having 4 winning numbers are 0.0009686%. In other words, you have a 1 in 1032 chance.\n",
            "\n",
            "Your chances of having 5 winning numbers are 0.0000184%. In other words, you have a 1 in 54201 chance.\n",
            "\n"
          ]
        }
      ]
    },
    {
      "cell_type": "markdown",
      "source": [
        "## 8. Next Steps"
      ],
      "metadata": {
        "id": "u5PklErZ7FQ3"
      }
    },
    {
      "cell_type": "markdown",
      "source": [
        "That was all for the guided part of the project! We managed to write four main functions for our app:\n",
        "\n",
        "* `one_ticket_probability()` — calculates the probability of winning the big prize with a single ticket.\n",
        "* `check_historical_occurrence()` — checks whether a certain combination has occurred in the Canada lottery data set.\n",
        "* `multi_ticket_probability()` — calculates the probability for any number of of tickets between 1 and 13,983,816.\n",
        "* `probability_less_6()` — calculates the probability of having two, three, four or five winning numbers.\n",
        "\n",
        "Possible features for a second version of the app include:\n",
        "\n",
        "* Making the outputs even easier to understand by adding fun analogies (for example, we can find probabilities for strange events and compare with the chances of winning in lottery; for instance, we can output something along the lines \"You are 100 times more likely to be the victim of a shark attack than winning the lottery\").\n",
        "* Combining the `one_ticket_probability()` and `check_historical_occurrence()` to output information on probability and historical occurrence at the same time.\n",
        "* Creating a function similar to `probability_less_6()` which calculates the probability of having at least two, three, four or five winning numbers. Hint: the number of successful outcomes for having at least four winning numbers is the sum of these three numbers: The number of successful outcomes for having four winning numbers exactly, the number of successful outcomes for having five winning numbers exactly, the number of successful outcomes for having six winning numbers exactly."
      ],
      "metadata": {
        "id": "hxy3aaQI7IwE"
      }
    }
  ]
}